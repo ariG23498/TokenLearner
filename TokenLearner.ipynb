{
 "cells": [
  {
   "cell_type": "markdown",
   "metadata": {
    "id": "BtuUbHj0jt71"
   },
   "source": [
    "# Imports and Setups"
   ]
  },
  {
   "cell_type": "code",
   "execution_count": null,
   "metadata": {
    "colab": {
     "base_uri": "https://localhost:8080/"
    },
    "id": "PmrKKlKZkbnY",
    "outputId": "e2916edb-6c11-4a76-eed6-2519bf58c47a"
   },
   "outputs": [],
   "source": [
    "!pip install -q -U tensorflow-addons"
   ]
  },
  {
   "cell_type": "code",
   "execution_count": null,
   "metadata": {
    "id": "CsyTdBuTimEZ"
   },
   "outputs": [],
   "source": [
    "import tensorflow as tf\n",
    "\n",
    "tf.keras.utils.set_random_seed(42)\n",
    "\n",
    "from tensorflow import keras\n",
    "from tensorflow.keras import layers\n",
    "import tensorflow_addons as tfa\n",
    "\n",
    "from datetime import datetime\n",
    "import matplotlib.pyplot as plt\n",
    "import numpy as np\n",
    "\n",
    "import math"
   ]
  },
  {
   "cell_type": "markdown",
   "metadata": {
    "id": "b8EaplNdlrzI"
   },
   "source": [
    "# Hyperparameters"
   ]
  },
  {
   "cell_type": "code",
   "execution_count": null,
   "metadata": {
    "id": "QWUI-ueYluAj"
   },
   "outputs": [],
   "source": [
    "# DATA\n",
    "BATCH_SIZE = 256\n",
    "AUTO = tf.data.AUTOTUNE\n",
    "INPUT_SHAPE = (32, 32, 3)\n",
    "NUM_CLASSES = 10\n",
    "\n",
    "# OPTIMIZER\n",
    "LEARNING_RATE = 1e-3\n",
    "WEIGHT_DECAY = 1e-4\n",
    "\n",
    "# TRAINING\n",
    "EPOCHS = 20\n",
    "\n",
    "# AUGMENTATION\n",
    "IMAGE_SIZE = 48  # We will resize input images to this size.\n",
    "PATCH_SIZE = 6  # Size of the patches to be extracted from the input images.\n",
    "NUM_PATCHES = (IMAGE_SIZE // PATCH_SIZE) ** 2\n",
    "\n",
    "# ViT ARCHITECTURE HYPERPARAMETERS\n",
    "LAYER_NORM_EPS = 1e-6\n",
    "PROJECTION_DIM = 128\n",
    "NUM_HEADS = 4\n",
    "NUM_LAYERS = 4\n",
    "MLP_UNITS = [\n",
    "    PROJECTION_DIM * 2,\n",
    "    PROJECTION_DIM,\n",
    "]"
   ]
  },
  {
   "cell_type": "code",
   "execution_count": null,
   "metadata": {
    "colab": {
     "base_uri": "https://localhost:8080/"
    },
    "id": "o6iaIEIJkqP9",
    "outputId": "03df2bc4-b458-4a70-ee74-f9c195061744"
   },
   "outputs": [],
   "source": [
    "(x_train, y_train), (x_test, y_test) = keras.datasets.cifar10.load_data()\n",
    "(x_train, y_train), (x_val, y_val) = (\n",
    "    (x_train[:40000], y_train[:40000]),\n",
    "    (x_train[40000:], y_train[40000:]),\n",
    ")\n",
    "print(f\"Training samples: {len(x_train)}\")\n",
    "print(f\"Validation samples: {len(x_val)}\")\n",
    "print(f\"Testing samples: {len(x_test)}\")\n",
    "\n",
    "train_ds = tf.data.Dataset.from_tensor_slices((x_train, y_train))\n",
    "train_ds = train_ds.shuffle(BATCH_SIZE * 100).batch(BATCH_SIZE).prefetch(AUTO)\n",
    "\n",
    "val_ds = tf.data.Dataset.from_tensor_slices((x_val, y_val))\n",
    "val_ds = val_ds.batch(BATCH_SIZE).prefetch(AUTO)\n",
    "\n",
    "test_ds = tf.data.Dataset.from_tensor_slices((x_test, y_test))\n",
    "test_ds = test_ds.batch(BATCH_SIZE).prefetch(AUTO)"
   ]
  },
  {
   "cell_type": "markdown",
   "metadata": {
    "id": "3gZwShY42gM2"
   },
   "source": [
    "# Augmentation"
   ]
  },
  {
   "cell_type": "code",
   "execution_count": null,
   "metadata": {
    "id": "uGTtuVR9nE3g"
   },
   "outputs": [],
   "source": [
    "data_augmentation = keras.Sequential(\n",
    "    [\n",
    "        layers.Rescaling(1 / 255.0),\n",
    "        layers.Resizing(INPUT_SHAPE[0] + 20, INPUT_SHAPE[0] + 20),\n",
    "        layers.RandomCrop(IMAGE_SIZE, IMAGE_SIZE),\n",
    "        layers.RandomFlip(\"horizontal\"),\n",
    "    ],\n",
    "    name=\"train_data_augmentation\",\n",
    ")"
   ]
  },
  {
   "cell_type": "markdown",
   "metadata": {
    "id": "2Ob3yvVA3E9u"
   },
   "source": [
    "# Patch Encoder"
   ]
  },
  {
   "cell_type": "code",
   "execution_count": null,
   "metadata": {
    "id": "_XZH_aS4nqEE"
   },
   "outputs": [],
   "source": [
    "class PatchEncoder(layers.Layer):\n",
    "    def __init__(self, num_patches=NUM_PATCHES, projection_dim=PROJECTION_DIM):\n",
    "        super(PatchEncoder, self).__init__()\n",
    "        self.num_patches = num_patches\n",
    "        self.projection = layers.Dense(units=projection_dim)\n",
    "        self.position_embedding = layers.Embedding(\n",
    "            input_dim=num_patches, output_dim=projection_dim\n",
    "        )\n",
    "\n",
    "    def call(self, patches):\n",
    "        positions = tf.range(start=0, limit=self.num_patches, delta=1)\n",
    "        encoded = self.projection(patches) + self.position_embedding(positions)\n",
    "        return encoded"
   ]
  },
  {
   "cell_type": "markdown",
   "metadata": {
    "id": "TuUfoaGpoUxN"
   },
   "source": [
    "# MLP"
   ]
  },
  {
   "cell_type": "code",
   "execution_count": null,
   "metadata": {
    "id": "mgr25Z2qoQb7"
   },
   "outputs": [],
   "source": [
    "def mlp(x, dropout_rate, hidden_units):\n",
    "    for units in hidden_units:\n",
    "        x = layers.Dense(units, activation=tf.nn.gelu)(x)\n",
    "        x = layers.Dropout(dropout_rate)(x)\n",
    "    return x"
   ]
  },
  {
   "cell_type": "markdown",
   "metadata": {
    "id": "PfXKWaNCogWJ"
   },
   "source": [
    "# TokenLearner"
   ]
  },
  {
   "cell_type": "code",
   "execution_count": null,
   "metadata": {
    "id": "Oz10FLn6AsGg"
   },
   "outputs": [],
   "source": [
    "class TokenLearner(layers.Layer):\n",
    "    def __init__(self, number_of_tokens, **kwargs):\n",
    "        super().__init__(**kwargs)\n",
    "        self.number_of_tokens = number_of_tokens\n",
    "\n",
    "    def build(self, input_shape):\n",
    "        _, H, W, C = input_shape\n",
    "\n",
    "        self.layer_norm = layers.LayerNormalization(epsilon=1e-6)\n",
    "        self.conv_block = keras.Sequential(\n",
    "            [\n",
    "                layers.Conv2D(\n",
    "                    filters=self.number_of_tokens,\n",
    "                    kernel_size=(3, 3),\n",
    "                    activation=tf.nn.gelu,\n",
    "                    padding=\"same\",\n",
    "                    use_bias=False,\n",
    "                ),\n",
    "                layers.Conv2D(\n",
    "                    filters=self.number_of_tokens,\n",
    "                    kernel_size=(3, 3),\n",
    "                    activation=tf.nn.gelu,\n",
    "                    padding=\"same\",\n",
    "                    use_bias=False,\n",
    "                ),\n",
    "                layers.Conv2D(\n",
    "                    filters=self.number_of_tokens,\n",
    "                    kernel_size=(3, 3),\n",
    "                    activation=tf.nn.gelu,\n",
    "                    padding=\"same\",\n",
    "                    use_bias=False,\n",
    "                ),\n",
    "                layers.Conv2D(\n",
    "                    filters=self.number_of_tokens,\n",
    "                    kernel_size=(3, 3),\n",
    "                    activation=\"sigmoid\",\n",
    "                    padding=\"same\",\n",
    "                    use_bias=False,\n",
    "                ),\n",
    "                layers.Reshape((-1, self.number_of_tokens)),\n",
    "                layers.Permute((2, 1)),\n",
    "            ]\n",
    "        )\n",
    "\n",
    "        self.reshape_input = layers.Reshape((1, H * W, C))\n",
    "\n",
    "    def call(self, inputs):\n",
    "        # inputs == (B, H, W, C)\n",
    "        x = self.layer_norm(inputs)\n",
    "\n",
    "        # apply conv on the input\n",
    "        x = self.conv_block(x)  # B, num_of_tokens, H*W\n",
    "\n",
    "        # reshape the input\n",
    "        inputs = self.reshape_input(inputs)  # inputs == (B, 1, H*W, C)\n",
    "        x = tf.reduce_mean(x[..., tf.newaxis] * inputs, axis=2)\n",
    "        return x"
   ]
  },
  {
   "cell_type": "markdown",
   "metadata": {
    "id": "m3FSfbtFehYJ"
   },
   "source": [
    "## ViT model with optional TokenLearner"
   ]
  },
  {
   "cell_type": "code",
   "execution_count": null,
   "metadata": {
    "id": "FKDtmPH-aNal"
   },
   "outputs": [],
   "source": [
    "def create_vit_classifier(use_token_learner=True, token_learner_units=8):\n",
    "    inputs = layers.Input(shape=INPUT_SHAPE)\n",
    "    # Augment data.\n",
    "    augmented = data_augmentation(inputs)\n",
    "\n",
    "    # Create patches.\n",
    "    patches = layers.Conv2D(\n",
    "        PROJECTION_DIM,\n",
    "        (PATCH_SIZE, PATCH_SIZE),\n",
    "        strides=(PATCH_SIZE, PATCH_SIZE),\n",
    "        padding=\"VALID\",\n",
    "    )(augmented)\n",
    "    _, h, w, c = patches.shape\n",
    "    patches = layers.Reshape((-1, h * w * c))(patches)\n",
    "\n",
    "    # Encode patches.\n",
    "    encoded_patches = PatchEncoder(NUM_PATCHES, PROJECTION_DIM)(patches)\n",
    "    encoded_patches = layers.Dropout(0.1)(encoded_patches)\n",
    "\n",
    "    # Create multiple layers of the Transformer block.\n",
    "    for i in range(NUM_LAYERS):\n",
    "        # Layer normalization 1.\n",
    "        x1 = layers.LayerNormalization(epsilon=LAYER_NORM_EPS)(encoded_patches)\n",
    "\n",
    "        # Create a multi-head attention layer.\n",
    "        attention_output = layers.MultiHeadAttention(\n",
    "            num_heads=NUM_HEADS, key_dim=PROJECTION_DIM, dropout=0.1\n",
    "        )(x1, x1)\n",
    "\n",
    "        # Skip connection 1.\n",
    "        x2 = layers.Add()([attention_output, encoded_patches])\n",
    "\n",
    "        # Layer normalization 2.\n",
    "        x3 = layers.LayerNormalization(epsilon=LAYER_NORM_EPS)(x2)\n",
    "\n",
    "        # MLP.\n",
    "        x3 = mlp(x3, hidden_units=MLP_UNITS, dropout_rate=0.1)\n",
    "\n",
    "        # Skip connection 2.\n",
    "        encoded_patches = layers.Add()([x3, x2])\n",
    "\n",
    "        # Add TokenLearner.\n",
    "        if use_token_learner and i == NUM_LAYERS // 2:\n",
    "            _, num_tokens, projection_dim = encoded_patches.shape\n",
    "            h = int(math.sqrt(num_tokens))\n",
    "            encoded_patches = layers.Reshape((h, h, projection_dim))(encoded_patches)\n",
    "            encoded_patches = TokenLearner(token_learner_units)(encoded_patches)\n",
    "\n",
    "    # Create a [batch_size, projection_dim] tensor.\n",
    "    representation = layers.LayerNormalization(epsilon=LAYER_NORM_EPS)(encoded_patches)\n",
    "    representation = layers.GlobalAvgPool1D()(representation)\n",
    "\n",
    "    # Classify outputs.\n",
    "    outputs = layers.Dense(NUM_CLASSES, activation=\"softmax\")(representation)\n",
    "\n",
    "    # Create the Keras model.\n",
    "    model = keras.Model(inputs=inputs, outputs=outputs)\n",
    "    return model"
   ]
  },
  {
   "cell_type": "markdown",
   "metadata": {
    "id": "60oHNkcoef_5"
   },
   "source": [
    "## Training utility"
   ]
  },
  {
   "cell_type": "code",
   "execution_count": null,
   "metadata": {
    "id": "sOmyzOhVfWoO"
   },
   "outputs": [],
   "source": [
    "def run_experiment(model, use_token_learner=True):\n",
    "    optimizer = tfa.optimizers.AdamW(\n",
    "        learning_rate=LEARNING_RATE, weight_decay=WEIGHT_DECAY\n",
    "    )\n",
    "\n",
    "    model.compile(\n",
    "        optimizer=optimizer,\n",
    "        loss=\"sparse_categorical_crossentropy\",\n",
    "        metrics=[\n",
    "            keras.metrics.SparseCategoricalAccuracy(name=\"accuracy\"),\n",
    "            keras.metrics.SparseTopKCategoricalAccuracy(5, name=\"top-5-accuracy\"),\n",
    "        ],\n",
    "    )\n",
    "\n",
    "    checkpoint_filepath = \"/tmp/checkpoint\"\n",
    "    checkpoint_callback = keras.callbacks.ModelCheckpoint(\n",
    "        checkpoint_filepath,\n",
    "        monitor=\"val_accuracy\",\n",
    "        save_best_only=True,\n",
    "        save_weights_only=True,\n",
    "    )\n",
    "    timestamp = datetime.now().strftime(\"%Y%m%d%H%M%S\")\n",
    "    root_dir = \"logs-tokenlearner\" if use_token_learner else \"logs-no-tokenlearner\"\n",
    "    tensorborad_callback = keras.callbacks.TensorBoard(\n",
    "        log_dir=f\"{root_dir}-{timestamp}\"\n",
    "    )\n",
    "\n",
    "    _ = model.fit(\n",
    "        train_ds,\n",
    "        epochs=EPOCHS,\n",
    "        validation_data=val_ds,\n",
    "        callbacks=[checkpoint_callback, tensorborad_callback],\n",
    "    )\n",
    "\n",
    "    model.load_weights(checkpoint_filepath)\n",
    "    _, accuracy, top_5_accuracy = model.evaluate(test_ds)\n",
    "    print(f\"Test accuracy: {round(accuracy * 100, 2)}%\")\n",
    "    print(f\"Test top 5 accuracy: {round(top_5_accuracy * 100, 2)}%\")"
   ]
  },
  {
   "cell_type": "markdown",
   "metadata": {
    "id": "Rm2Q2b6hgY-s"
   },
   "source": [
    "## Experiments"
   ]
  },
  {
   "cell_type": "code",
   "execution_count": null,
   "metadata": {},
   "outputs": [],
   "source": [
    "# Should at least be 5.\n",
    "num_trials = 1"
   ]
  },
  {
   "cell_type": "code",
   "execution_count": null,
   "metadata": {
    "colab": {
     "base_uri": "https://localhost:8080/"
    },
    "id": "_NMiWnSdgXXz",
    "outputId": "79c830a6-a1f6-48d4-dc7a-ff6efa6fc5b0"
   },
   "outputs": [],
   "source": [
    "# With TokenLearner.\n",
    "for _ in range(num_trials):\n",
    "    vit_token_learner = create_vit_classifier()\n",
    "    run_experiment(vit_token_learner, use_token_learner=True)"
   ]
  },
  {
   "cell_type": "code",
   "execution_count": null,
   "metadata": {
    "id": "Im-aqSSzhaNr"
   },
   "outputs": [],
   "source": [
    "# Without TokenLearner.\n",
    "for _ in range(num_trials):\n",
    "    vit = create_vit_classifier(use_token_learner=False)\n",
    "    run_experiment(vit, use_token_learner=False)"
   ]
  },
  {
   "cell_type": "code",
   "execution_count": null,
   "metadata": {},
   "outputs": [],
   "source": [
    "create_vit_classifier().count_params(), create_vit_classifier(\n",
    "    use_token_learner=False\n",
    ").count_params()"
   ]
  },
  {
   "cell_type": "markdown",
   "metadata": {},
   "source": [
    "## References\n",
    "\n",
    "* [Official TokenLearner code](https://github.com/google-research/scenic/blob/main/scenic/projects/token_learner/model.py)\n",
    "* [Image Classification with ViTs on keras.io](https://keras.io/examples/vision/image_classification_with_vision_transformer/)"
   ]
  }
 ],
 "metadata": {
  "accelerator": "GPU",
  "colab": {
   "collapsed_sections": [],
   "machine_shape": "hm",
   "name": "TokenLearner.ipynb",
   "provenance": []
  },
  "environment": {
   "kernel": "python3",
   "name": "tf2-gpu.2-7.m84",
   "type": "gcloud",
   "uri": "gcr.io/deeplearning-platform-release/tf2-gpu.2-7:m84"
  },
  "kernelspec": {
   "display_name": "Python 3 (ipykernel)",
   "language": "python",
   "name": "python3"
  },
  "language_info": {
   "codemirror_mode": {
    "name": "ipython",
    "version": 3
   },
   "file_extension": ".py",
   "mimetype": "text/x-python",
   "name": "python",
   "nbconvert_exporter": "python",
   "pygments_lexer": "ipython3",
   "version": "3.8.2"
  }
 },
 "nbformat": 4,
 "nbformat_minor": 4
}
